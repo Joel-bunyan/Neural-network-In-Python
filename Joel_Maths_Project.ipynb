{
  "nbformat": 4,
  "nbformat_minor": 0,
  "metadata": {
    "colab": {
      "name": "Joel_Maths_Project.ipynb",
      "provenance": [],
      "collapsed_sections": []
    },
    "kernelspec": {
      "name": "python3",
      "display_name": "Python 3"
    },
    "language_info": {
      "name": "python"
    }
  },
  "cells": [
    {
      "cell_type": "code",
      "metadata": {
        "id": "ypENd8JMNbd8",
        "colab": {
          "base_uri": "https://localhost:8080/"
        },
        "outputId": "10b094d0-cdfb-4979-b2c2-faa5bc865892"
      },
      "source": [
        "import numpy as np\n",
        "from sklearn.linear_model import LinearRegression\n",
        "X = np.array([1,2,3,4,5])\n",
        "y = X*5.2 \n",
        "print(X.shape,y.shape)\n",
        "X = X.reshape(-1,1)\n",
        "y = y.reshape(-1,1)\n",
        "print(X.shape,y.shape)"
      ],
      "execution_count": 1,
      "outputs": [
        {
          "output_type": "stream",
          "name": "stdout",
          "text": [
            "(5,) (5,)\n",
            "(5, 1) (5, 1)\n"
          ]
        }
      ]
    },
    {
      "cell_type": "code",
      "source": [
        "def model(X, Y, learning_rate, iteration):\n",
        "  m = Y.size\n",
        "  theta = 0\n",
        "  cost_list = []\n",
        "  for i in range(iteration):\n",
        "    y_pred = np.dot(X, theta)\n",
        "    cost = (1/(2*m))*np.sum(np.square(y_pred - Y))\n",
        "    d_theta = (1/m)*np.dot(X.T, y_pred - Y)\n",
        "    theta = theta - learning_rate*d_theta\n",
        "    cost_list.append(cost)\n",
        "  return theta"
      ],
      "metadata": {
        "id": "VdwTAunkOc8L"
      },
      "execution_count": 2,
      "outputs": []
    },
    {
      "cell_type": "code",
      "source": [
        "theta = model(X, y, 0.01, 100)"
      ],
      "metadata": {
        "id": "H0-jTUMaPq0L"
      },
      "execution_count": 3,
      "outputs": []
    },
    {
      "cell_type": "code",
      "source": [
        "print(\"theta \",theta)"
      ],
      "metadata": {
        "colab": {
          "base_uri": "https://localhost:8080/"
        },
        "id": "vIH5r06iP4a6",
        "outputId": "136cec55-26a8-4ce3-fd89-2e0b3cb201ca"
      },
      "execution_count": 4,
      "outputs": [
        {
          "output_type": "stream",
          "name": "stdout",
          "text": [
            "theta  [[5.19995481]]\n"
          ]
        }
      ]
    },
    {
      "cell_type": "code",
      "source": [
        "print(X*theta)\n",
        "print(y)"
      ],
      "metadata": {
        "colab": {
          "base_uri": "https://localhost:8080/"
        },
        "id": "gfclyyatUs-5",
        "outputId": "49c7c7b8-c08c-4b45-8cdc-beb47b834d00"
      },
      "execution_count": 5,
      "outputs": [
        {
          "output_type": "stream",
          "name": "stdout",
          "text": [
            "[[ 5.19995481]\n",
            " [10.39990963]\n",
            " [15.59986444]\n",
            " [20.79981926]\n",
            " [25.99977407]]\n",
            "[[ 5.2]\n",
            " [10.4]\n",
            " [15.6]\n",
            " [20.8]\n",
            " [26. ]]\n"
          ]
        }
      ]
    },
    {
      "cell_type": "code",
      "source": [
        "y_hat = X*theta"
      ],
      "metadata": {
        "id": "CpLCrf3dU4vN"
      },
      "execution_count": 6,
      "outputs": []
    },
    {
      "cell_type": "code",
      "source": [
        "import matplotlib.pyplot as plt\n",
        "plt.scatter(X,y)\n",
        "plt.plot(X,y_hat)"
      ],
      "metadata": {
        "colab": {
          "base_uri": "https://localhost:8080/",
          "height": 282
        },
        "id": "IxuaeBf4Uzo5",
        "outputId": "3c9b15b5-778b-489c-e9ce-6485fb079891"
      },
      "execution_count": 7,
      "outputs": [
        {
          "output_type": "execute_result",
          "data": {
            "text/plain": [
              "[<matplotlib.lines.Line2D at 0x7fa84feb2ad0>]"
            ]
          },
          "metadata": {},
          "execution_count": 7
        },
        {
          "output_type": "display_data",
          "data": {
            "image/png": "[encoded data removed]",
            "text/plain": [
              "<Figure size 432x288 with 1 Axes>"
            ]
          },
          "metadata": {
            "needs_background": "light"
          }
        }
      ]
    },
    {
      "cell_type": "code",
      "source": [
        "import pandas as pd"
      ],
      "metadata": {
        "id": "B9Rn1M_DWd00"
      },
      "execution_count": 8,
      "outputs": []
    },
    {
      "cell_type": "code",
      "source": [
        "data = np.loadtxt(\"dataset.txt\", delimiter = \",\")"
      ],
      "metadata": {
        "id": "bTp0tfWZXCgl"
      },
      "execution_count": 9,
      "outputs": []
    },
    {
      "cell_type": "code",
      "source": [
        "X2 = data[:, 0]\n",
        "Y2 = data[:, 1].reshape(X2.size, 1)\n",
        "X2 = np.vstack((np.ones((X2.size, )), X2)).T"
      ],
      "metadata": {
        "id": "X6tFxqc7X4AN"
      },
      "execution_count": 11,
      "outputs": []
    },
    {
      "cell_type": "code",
      "source": [
        "plt.scatter(X2[:, 1], Y2)\n",
        "plt.show()"
      ],
      "metadata": {
        "colab": {
          "base_uri": "https://localhost:8080/",
          "height": 265
        },
        "id": "S0o9_0xBYG3q",
        "outputId": "0138f9fa-d95b-459a-be85-9f2641c8bc67"
      },
      "execution_count": 12,
      "outputs": [
        {
          "output_type": "display_data",
          "data": {
            "image/png": "[encoded data removed]",
            "text/plain": [
              "<Figure size 432x288 with 1 Axes>"
            ]
          },
          "metadata": {
            "needs_background": "light"
          }
        }
      ]
    },
    {
      "cell_type": "code",
      "source": [
        "def model(X, Y, learning_rate, iteration):\n",
        "  m = Y.size\n",
        "  theta = np.zeros((2, 1))\n",
        "  cost_list = []\n",
        "  for i in range(iteration):\n",
        "    y_pred = np.dot(X, theta)\n",
        "    cost = (1/(2*m))*np.sum(np.square(y_pred - Y))\n",
        "    d_theta = (1/m)*np.dot(X.T, y_pred - Y)\n",
        "    theta = theta - learning_rate*d_theta\n",
        "    cost_list.append(cost)\n",
        "  return theta, cost_list"
      ],
      "metadata": {
        "id": "pc8aJ1eQYYIl"
      },
      "execution_count": 13,
      "outputs": []
    },
    {
      "cell_type": "code",
      "source": [
        "iteration = 100\n",
        "learning_rate = 0.00000005\n",
        "theta, cost_list = model(X2, Y2, learning_rate = learning_rate,\n",
        "iteration = iteration)"
      ],
      "metadata": {
        "id": "qAfvGJPWYPhi"
      },
      "execution_count": 14,
      "outputs": []
    },
    {
      "cell_type": "code",
      "source": [
        "y_hat2 = X2[:, 1] * theta[1]"
      ],
      "metadata": {
        "id": "sWGVdcxiaEP_"
      },
      "execution_count": 16,
      "outputs": []
    },
    {
      "cell_type": "code",
      "source": [
        "plt.scatter(X2[:, 1], Y2)\n",
        "plt.plot(X2[:, 1],y_hat2)"
      ],
      "metadata": {
        "colab": {
          "base_uri": "https://localhost:8080/",
          "height": 282
        },
        "id": "gEWz41F4Zyhn",
        "outputId": "37385faa-3a38-487b-c2b8-a9422b25c560"
      },
      "execution_count": 18,
      "outputs": [
        {
          "output_type": "execute_result",
          "data": {
            "text/plain": [
              "[<matplotlib.lines.Line2D at 0x7fa84f844390>]"
            ]
          },
          "metadata": {},
          "execution_count": 18
        },
        {
          "output_type": "display_data",
          "data": {
            "image/png": "[encoded data removed]",
            "text/plain": [
              "<Figure size 432x288 with 1 Axes>"
            ]
          },
          "metadata": {
            "needs_background": "light"
          }
        }
      ]
    },
    {
      "cell_type": "code",
      "source": [
        "num = int(input(\"enter the area in sq ft : \"))\n",
        "res = num * theta[1]\n",
        "print(\"The cost is \", res[0])"
      ],
      "metadata": {
        "colab": {
          "base_uri": "https://localhost:8080/"
        },
        "id": "eMX4WFNYiPK-",
        "outputId": "e80bf8e7-227c-465c-ecc3-356d12b1695c"
      },
      "execution_count": 31,
      "outputs": [
        {
          "output_type": "stream",
          "name": "stdout",
          "text": [
            "enter the area in sq ft : 2079\n",
            "The cost is  206635.3340516297\n"
          ]
        }
      ]
    }
  ]
}